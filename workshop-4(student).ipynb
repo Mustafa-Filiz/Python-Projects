{
 "cells": [
  {
   "cell_type": "markdown",
   "metadata": {},
   "source": [
    "<center><img src=\"https://github.com/aaron-clarusway/fullstack/blob/master/itf-logo.png?raw=true\"  alt=\"alt text\" width=\"200\"/></center>\n",
    "<br>\n",
    "<h1><p style=\"text-align: center; color:darkblue\">Python Basic & Plus</p><h1>\n",
    "<center><h1>Workshop - 4</h1></center>\n",
    "<p><img align=\"right\"\n",
    "  src=\"https://secure.meetupstatic.com/photos/event/3/1/b/9/600_488352729.jpeg\"  width=\"15px\"></p>\n",
    "<br>\n",
    "\n",
    "\n",
    "# Subject: Collections - Control Flow Statements - Functions"
   ]
  },
  {
   "cell_type": "markdown",
   "metadata": {},
   "source": [
    "## Coding Challenge -1 : Palindrome\n",
    "\n",
    "Purpose of the this coding challenge is to solve a control flow statements issue.\n",
    "\n",
    "### Learning Outcomes\n",
    "\n",
    "At the end of the this coding challenge, students will be able to;\n",
    "\n",
    "- understand the use of loops.\n",
    "- understand the importance of alphanumeric string methods.\n",
    "- get a better understanding in manipulating strings.\n",
    "\n",
    "### Problem Statement\n",
    "  \n",
    "- Write a function/functions that checks whether the sentence you get from the user is a **palindrome**. (Do not consider punctuation and special characters. Only consider \"***alphanumeric***\" characters.)\n",
    "\n",
    "\n",
    "```bash\n",
    "input : \"ey edip adana'da, pide ye!\"\n",
    "\n",
    "output : \"ey edip adana'da, pide ye!\" is a palindrome\n",
    "```"
   ]
  },
  {
   "cell_type": "markdown",
   "metadata": {},
   "source": [
    "### Solution :"
   ]
  },
  {
   "cell_type": "code",
   "execution_count": 14,
   "metadata": {},
   "outputs": [
    {
     "output_type": "execute_result",
     "data": {
      "text/plain": [
       "True"
      ]
     },
     "metadata": {},
     "execution_count": 14
    }
   ],
   "source": [
    "import string\n",
    "def pal(n):\n",
    "    arr = [i for i in n.lower() if i not in string.punctuation and i != \" \"]\n",
    "    return arr == arr[::-1]\n",
    "\n",
    "pal(\"Eva, can I see bees in a cave?\")\n"
   ]
  },
  {
   "source": [
    "## Coding Challenge - 2: Sudoku Format Converter&Printer\n",
    "\n",
    "The purpose of this coding challenge is to write a program that prints the given lists as sudoku looking format.\n",
    "\n",
    "### Learning Outcomes\n",
    "\n",
    "At the end of this coding challenge, students will be able to;\n",
    "\n",
    "- analyze a problem, identify, and apply programming knowledge for appropriate solution.\n",
    "\n",
    "- design, implement `arithmetic operators` and nested loops effectively in Python to solve the given problem.\n",
    "\n",
    "- demonstrate their knowledge of algorithmic design principles by solving the problem effectively.\n",
    "\n",
    "### Problem Statement\n",
    "\n",
    "<div class=\"alert alert-block alert-info\">\n",
    "    <b>💡Objective:</b>\n",
    "    <ul>\n",
    "        <li>To improve your <b>control flow statement</b> skills.</li>\n",
    "    </ul>\n",
    "</div>\n",
    "\n",
    "<hr>\n",
    "<p><b>Task:</b> The department you work for has received a project that displays the solved sudoku puzzles in a digital environment.&nbsp;</p>\n",
    "<p></p>\n",
    "<p></p>\n",
    "<ul>\n",
    "    <li>Write a Python code to print out the given <code>sudoku</code> puzzle matrix in the following format.</li>\n",
    "</ul>\n",
    "<b>Given format :</b><br>\n",
    "<ol>\n",
    "</ol>\n",
    "<p>\n",
    "</p>\n",
    "<div>\n",
    "    <pre>sudoku&nbsp;=&nbsp;[<br>&nbsp;&nbsp;&nbsp;&nbsp;[0,&nbsp;0,&nbsp;0,&nbsp;0,&nbsp;6,&nbsp;4,&nbsp;0,&nbsp;0,&nbsp;0],<br>&nbsp;&nbsp;&nbsp;&nbsp;[7,&nbsp;0,&nbsp;0,&nbsp;0,&nbsp;0,&nbsp;0,&nbsp;3,&nbsp;9,&nbsp;0],<br>&nbsp;&nbsp;&nbsp;&nbsp;[8,&nbsp;0,&nbsp;0,&nbsp;0,&nbsp;0,&nbsp;0,&nbsp;0,&nbsp;0,&nbsp;0],<br>&nbsp;&nbsp;&nbsp;&nbsp;[0,&nbsp;0,&nbsp;0,&nbsp;5,&nbsp;0,&nbsp;2,&nbsp;0,&nbsp;6,&nbsp;0],<br>&nbsp;&nbsp;&nbsp;&nbsp;[0,&nbsp;8,&nbsp;0,&nbsp;4,&nbsp;0,&nbsp;0,&nbsp;0,&nbsp;0,&nbsp;0],<br>&nbsp;&nbsp;&nbsp;&nbsp;[3,&nbsp;5,&nbsp;0,&nbsp;6,&nbsp;0,&nbsp;0,&nbsp;0,&nbsp;7,&nbsp;0],<br>&nbsp;&nbsp;&nbsp;&nbsp;[0,&nbsp;0,&nbsp;2,&nbsp;0,&nbsp;0,&nbsp;0,&nbsp;1,&nbsp;0,&nbsp;3],<br>&nbsp;&nbsp;&nbsp;&nbsp;[0,&nbsp;0,&nbsp;1,&nbsp;0,&nbsp;5,&nbsp;9,&nbsp;0,&nbsp;0,&nbsp;0],<br>&nbsp;&nbsp;&nbsp;&nbsp;[0,&nbsp;0,&nbsp;0,&nbsp;0,&nbsp;0,&nbsp;0,&nbsp;7,&nbsp;0,&nbsp;0]<br>]</pre>\n",
    "    <div>\n",
    "        <b>Desired output format :</b><br>\n",
    "        <ol>\n",
    "        </ol>\n",
    "    </div>\n",
    "    <pre>- - - - - - - - - - - - - - - \n",
    "0  0  0  | 0  6  4  | 0  0  0  \n",
    "7  0  0  | 0  0  0  | 3  9  0  \n",
    "8  0  0  | 0  0  0  | 0  0  0  \n",
    "- - - - - - - - - - - - - - - \n",
    "0  0  0  | 5  0  2  | 0  6  0  \n",
    "0  8  0  | 4  0  0  | 0  0  0  \n",
    "3  5  0  | 6  0  0  | 0  7  0  \n",
    "- - - - - - - - - - - - - - - \n",
    "0  0  2  | 0  0  0  | 1  0  3  \n",
    "0  0  1  | 0  5  9  | 0  0  0  \n",
    "0  0  0  | 0  0  0  | 7  0  0  \n",
    "- - - - - - - - - - - - - - -</pre>\n",
    "</div><br>\n",
    "<p></p>\n",
    "<p></p>\n",
    "<hr>\n",
    "<p><i><b>Note that</b>; <br></i></p>\n",
    "<ul>\n",
    "    <li><i><i>Use not more than \"<b>control flow statement and boolean logic operators</b>\" in solving this code problem. </i></i>\n",
    "    </li>\n",
    "    <li><i><i>The output which we expect from you is only a new output format above. </i></i>\n",
    "    </li>\n",
    "    <li><i><i>We don't expect a sudoku puzzle solver from you.</i></i>\n",
    "    </li>\n",
    "</ul>\n",
    "<p></p>"
   ],
   "cell_type": "markdown",
   "metadata": {}
  },
  {
   "cell_type": "markdown",
   "metadata": {},
   "source": [
    "### Solution :"
   ]
  },
  {
   "cell_type": "code",
   "execution_count": 54,
   "metadata": {},
   "outputs": [
    {
     "output_type": "stream",
     "name": "stdout",
     "text": [
      "- - - - - - - - - - - - - - - - \n0  0  0  | 0  6  4  | 0  0  0  | \n7  0  0  | 0  0  0  | 3  9  0  | \n8  0  0  | 0  0  0  | 0  0  0  | \n- - - - - - - - - - - - - - - - \n0  0  0  | 5  0  2  | 0  6  0  | \n0  8  0  | 4  0  0  | 0  0  0  | \n3  5  0  | 6  0  0  | 0  7  0  | \n- - - - - - - - - - - - - - - - \n0  0  2  | 0  0  0  | 1  0  3  | \n0  0  1  | 0  5  9  | 0  0  0  | \n0  0  0  | 0  0  0  | 7  0  0  | \n- - - - - - - - - - - - - - - - \n"
     ]
    }
   ],
   "source": [
    "sudoku = [\n",
    "    [0, 0, 0, 0, 6, 4, 0, 0, 0],\n",
    "    [7, 0, 0, 0, 0, 0, 3, 9, 0],\n",
    "    [8, 0, 0, 0, 0, 0, 0, 0, 0],\n",
    "    [0, 0, 0, 5, 0, 2, 0, 6, 0],\n",
    "    [0, 8, 0, 4, 0, 0, 0, 0, 0],\n",
    "    [3, 5, 0, 6, 0, 0, 0, 7, 0],\n",
    "    [0, 0, 2, 0, 0, 0, 1, 0, 3],\n",
    "    [0, 0, 1, 0, 5, 9, 0, 0, 0],\n",
    "    [0, 0, 0, 0, 0, 0, 7, 0, 0]\n",
    "]\n",
    "\n",
    "\n",
    "counter1 = 0\n",
    "print(\"- - - - - - - - - - - - - - - - \")\n",
    "for i in sudoku:\n",
    "    counter1 += 1\n",
    "    if counter1 % 3 == 0:\n",
    "        counter2 = 0\n",
    "        for j in i:\n",
    "            counter2 += 1\n",
    "            if counter2 % 3 == 0:\n",
    "                print(j, end=\"\")\n",
    "                print(\"  | \", end=\"\")\n",
    "                \n",
    "            else:\n",
    "                print(j, end=\"\")\n",
    "                print(\"  \", end=\"\")\n",
    "\n",
    "        print()\n",
    "        print(\"- - - - - - - - - - - - - - - - \")\n",
    "    else:\n",
    "        counter3 = 0\n",
    "        for j in i:\n",
    "            counter3 += 1\n",
    "            if counter3 % 3 == 0:\n",
    "                print(j, end=\"\")\n",
    "                print(\"  | \", end=\"\")\n",
    "                \n",
    "            else:\n",
    "                print(j, end=\"\")\n",
    "                print(\"  \", end=\"\")\n",
    "        print()\n",
    "\n"
   ]
  },
  {
   "cell_type": "code",
   "execution_count": 84,
   "metadata": {},
   "outputs": [
    {
     "output_type": "stream",
     "name": "stdout",
     "text": [
      "-----------------------------\n0  0  0  | 0  6  4  | 0  0  0  \n7  0  0  | 0  0  0  | 3  9  0  \n8  0  0  | 0  0  0  | 0  0  0  \n-----------------------------\n0  0  0  | 5  0  2  | 0  6  0  \n0  8  0  | 4  0  0  | 0  0  0  \n3  5  0  | 6  0  0  | 0  7  0  \n-----------------------------\n0  0  2  | 0  0  0  | 1  0  3  \n0  0  1  | 0  5  9  | 0  0  0  \n0  0  0  | 0  0  0  | 7  0  0  \n-----------------------------\n"
     ]
    }
   ],
   "source": [
    "sudoku = [\n",
    "    [0, 0, 0, 0, 6, 4, 0, 0, 0],\n",
    "    [7, 0, 0, 0, 0, 0, 3, 9, 0],\n",
    "    [8, 0, 0, 0, 0, 0, 0, 0, 0],\n",
    "    [0, 0, 0, 5, 0, 2, 0, 6, 0],\n",
    "    [0, 8, 0, 4, 0, 0, 0, 0, 0],\n",
    "    [3, 5, 0, 6, 0, 0, 0, 7, 0],\n",
    "    [0, 0, 2, 0, 0, 0, 1, 0, 3],\n",
    "    [0, 0, 1, 0, 5, 9, 0, 0, 0],\n",
    "    [0, 0, 0, 0, 0, 0, 7, 0, 0]\n",
    "]\n",
    "\n",
    "c = 0\n",
    "print(\"-----------------------------\")\n",
    "for i in sudoku:\n",
    "    c += 1\n",
    "    if c % 3 == 0:\n",
    "        c1 = 0\n",
    "        for j in i:\n",
    "            c1 += 1\n",
    "            if c1 % 3 == 0 and c1 != 9:\n",
    "                print(j, end=\"\")\n",
    "                print(\"  | \", end=\"\")\n",
    "            else:\n",
    "                print(j, end=\"\")\n",
    "                print(\"  \", end=\"\")\n",
    "        print()\n",
    "        print(\"-----------------------------\")\n",
    "\n",
    "    else:\n",
    "        c2 = 0\n",
    "        for k in i:\n",
    "            c2 += 1\n",
    "            if c2 % 3 == 0 and c2 != 9:\n",
    "                print(k, end=\"\")\n",
    "                print(\"  | \", end=\"\")\n",
    "            else:\n",
    "                print(k, end=\"\")\n",
    "                print(\"  \", end=\"\")\n",
    "        print()\n"
   ]
  },
  {
   "cell_type": "code",
   "execution_count": null,
   "metadata": {},
   "outputs": [],
   "source": [
    "        c1 = 0\n",
    "        for j in i:\n",
    "            c1 += 1\n",
    "            if c1 % 3 == 0 and c1 != 9:\n",
    "                print(j, end=\"\")\n",
    "                print(\"  | \", end=\"\")\n",
    "            else:\n",
    "                print(j, end=\"\")\n",
    "                print(\"  \", end=\"\")\n",
    "\n",
    "\n",
    "        c2 = 0\n",
    "        for k in i:\n",
    "            c2 += 1\n",
    "            if c2 % 3 == 0 and c2 != 9:\n",
    "                print(k, end=\"\")\n",
    "                print(\"  | \", end=\"\")\n",
    "            else:\n",
    "                print(k, end=\"\")\n",
    "                print(\"  \", end=\"\")\n",
    "        print()\n"
   ]
  }
 ],
 "metadata": {
  "kernelspec": {
   "name": "python394jvsc74a57bd0fd3c836f55ccbb5ee79d5cad5f2eeea419be3eed17d6400428b165ff035abe27",
   "display_name": "Python 3.9.4 64-bit"
  },
  "language_info": {
   "codemirror_mode": {
    "name": "ipython",
    "version": 3
   },
   "file_extension": ".py",
   "mimetype": "text/x-python",
   "name": "python",
   "nbconvert_exporter": "python",
   "pygments_lexer": "ipython3",
   "version": "3.9.4"
  },
  "metadata": {
   "interpreter": {
    "hash": "fd3c836f55ccbb5ee79d5cad5f2eeea419be3eed17d6400428b165ff035abe27"
   }
  }
 },
 "nbformat": 4,
 "nbformat_minor": 2
}