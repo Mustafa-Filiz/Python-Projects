{
 "metadata": {
  "language_info": {
   "codemirror_mode": {
    "name": "ipython",
    "version": 3
   },
   "file_extension": ".py",
   "mimetype": "text/x-python",
   "name": "python",
   "nbconvert_exporter": "python",
   "pygments_lexer": "ipython3",
   "version": "3.9.4"
  },
  "orig_nbformat": 2,
  "kernelspec": {
   "name": "python394jvsc74a57bd0fd3c836f55ccbb5ee79d5cad5f2eeea419be3eed17d6400428b165ff035abe27",
   "display_name": "Python 3.9.4 64-bit"
  },
  "metadata": {
   "interpreter": {
    "hash": "fd3c836f55ccbb5ee79d5cad5f2eeea419be3eed17d6400428b165ff035abe27"
   }
  }
 },
 "nbformat": 4,
 "nbformat_minor": 2,
 "cells": [
  {
   "cell_type": "code",
   "execution_count": 1,
   "metadata": {},
   "outputs": [],
   "source": [
    "text = ['one','two','three','four','five']\n",
    "numbers = [1, 2, 3, 4, 5]\n",
    "city = (\"tokyo\", \"kiev\", \"mekke\", \"new york\", \"istanbul\")"
   ]
  },
  {
   "cell_type": "code",
   "execution_count": 2,
   "metadata": {},
   "outputs": [
    {
     "output_type": "execute_result",
     "data": {
      "text/plain": [
       "[('one', 1, 'tokyo'),\n",
       " ('two', 2, 'kiev'),\n",
       " ('three', 3, 'mekke'),\n",
       " ('four', 4, 'new york'),\n",
       " ('five', 5, 'istanbul')]"
      ]
     },
     "metadata": {},
     "execution_count": 2
    }
   ],
   "source": [
    "list(zip(text, numbers, city))"
   ]
  },
  {
   "cell_type": "code",
   "execution_count": 3,
   "metadata": {},
   "outputs": [
    {
     "output_type": "stream",
     "name": "stdout",
     "text": [
      "('one', 1, 'tokyo') ('two', 2, 'kiev') ('three', 3, 'mekke') ('four', 4, 'new york') ('five', 5, 'istanbul')\n"
     ]
    }
   ],
   "source": [
    "print(* zip(text, numbers, city))"
   ]
  },
  {
   "cell_type": "code",
   "execution_count": 8,
   "metadata": {},
   "outputs": [
    {
     "output_type": "stream",
     "name": "stdout",
     "text": [
      "[0, 2, 4, 6, 8, 10]\n[1, 3, 5, 7, 9]\n"
     ]
    }
   ],
   "source": [
    "even = []\n",
    "odd = []\n",
    "\n",
    "for i in range(0,11):\n",
    "    if i % 2 == 0:\n",
    "        even.append(i)\n",
    "    else:\n",
    "        odd.append(i)\n",
    "\n",
    "print(even)\n",
    "print(odd)\n"
   ]
  },
  {
   "cell_type": "code",
   "execution_count": 9,
   "metadata": {},
   "outputs": [
    {
     "output_type": "stream",
     "name": "stdout",
     "text": [
      "[0, 2, 4, 6, 8]\n[1, 3, 5, 7, 9]\n"
     ]
    }
   ],
   "source": [
    "a = [i for i in range(0,10) if i % 2 == 0]\n",
    "b = [k for k in range(0,10) if k % 2 != 0]\n",
    "\n",
    "print(a)\n",
    "print(b)"
   ]
  },
  {
   "cell_type": "code",
   "execution_count": 12,
   "metadata": {},
   "outputs": [
    {
     "output_type": "stream",
     "name": "stdout",
     "text": [
      "The number of even numbers 4\nThe number of odd numbers 3\n"
     ]
    }
   ],
   "source": [
    "example_list = [11,2,24,61,48,33,3]\n",
    "even_num = 0\n",
    "odd_num = 0\n",
    "for i in range(len(example_list)):\n",
    "    if not i % 2 :\n",
    "        even_num += 1\n",
    "    else:\n",
    "        odd_num += 1\n",
    "\n",
    "print(\"The number of even numbers\", even_num)\n",
    "print(\"The number of odd numbers\", odd_num)"
   ]
  },
  {
   "cell_type": "code",
   "execution_count": 13,
   "metadata": {},
   "outputs": [
    {
     "output_type": "stream",
     "name": "stdout",
     "text": [
      "1\n22\n333\n4444\n55555\n666666\n7777777\n88888888\n999999999\n"
     ]
    }
   ],
   "source": [
    "for i in range(1,10):\n",
    "    print(f\"{i}\" * i)"
   ]
  },
  {
   "cell_type": "code",
   "execution_count": 15,
   "metadata": {},
   "outputs": [
    {
     "output_type": "stream",
     "name": "stdout",
     "text": [
      "2775\n"
     ]
    }
   ],
   "source": [
    "toplam = 0\n",
    "for i in range(1, 75):\n",
    "    toplam += i\n",
    "\n",
    "print(toplam)"
   ]
  },
  {
   "cell_type": "code",
   "execution_count": 19,
   "metadata": {},
   "outputs": [
    {
     "output_type": "stream",
     "name": "stdout",
     "text": [
      "susan is happy\nsusan is sad\ntom is happy\ntom is sad\nedward is happy\nedward is sad\n"
     ]
    }
   ],
   "source": [
    "names = [\"susan\", \"tom\", \"edward\"] \n",
    "mood = [\"happy\", \"sad\"]\n",
    "\n",
    "for k in names:\n",
    "    for l in mood:\n",
    "        print(k, \"is\", l)"
   ]
  },
  {
   "cell_type": "code",
   "execution_count": 23,
   "metadata": {},
   "outputs": [
    {
     "output_type": "stream",
     "name": "stdout",
     "text": [
      "Even square: [0, 4, 16, 36, 64]\nOdd square: [1, 9, 25, 49, 81]\n"
     ]
    }
   ],
   "source": [
    "my_list = list(range(10))\n",
    "print(\"Even square:\",[i ** 2 for i in my_list if i % 2 ==0])\n",
    "print(\"Odd square:\",[i ** 2 for i in my_list if i % 2 !=0])"
   ]
  },
  {
   "cell_type": "code",
   "execution_count": 37,
   "metadata": {},
   "outputs": [
    {
     "output_type": "stream",
     "name": "stdout",
     "text": [
      "93084\n93084 is an Armstrong number.\n"
     ]
    }
   ],
   "source": [
    "number = input(\"Enter a number : \")\n",
    "\n",
    "while True:   \n",
    "    if number.isdecimal():\n",
    "        break\n",
    "    else:\n",
    "        number = input(\" It is an invalid entry. Don't use non-numeric, float, or negative values! : \")\n",
    "\n",
    "sum_digit = 0\n",
    "\n",
    "for i in range(len(number)):\n",
    "    sum_digit += int(number[i]) ** len(number)\n",
    "\n",
    "print(sum_digit)\n",
    "\n",
    "if sum_digit == int(number):\n",
    "    print(f\"{number} is an Armstrong number.\")\n",
    "else :\n",
    "    print(f\"{number} is not an Armstrong number.\")"
   ]
  },
  {
   "cell_type": "code",
   "execution_count": 39,
   "metadata": {},
   "outputs": [
    {
     "output_type": "stream",
     "name": "stdout",
     "text": [
      "Answer the questions 'Yes' or 'No'.\n",
      "You are in risky group.\n"
     ]
    }
   ],
   "source": [
    "print(\"Answer the questions 'Yes' or 'No'.\")\n",
    "age = input(\"Are you a cigarette addict older than 75 years old? \").strip().title()\n",
    "chronic = input(\"Do you have a severe chronic disease? \").strip().title()\n",
    "immune = input(\"Is your immune system too weak? \").strip().title()\n",
    "\n",
    "if age == \"Yes\":\n",
    "    age = True\n",
    "else:\n",
    "    age = False\n",
    "\n",
    "if chronic == \"Yes\":\n",
    "    chronic = True\n",
    "else:\n",
    "    chronic = False\n",
    "\n",
    "if immune == \"Yes\":\n",
    "    immune = True\n",
    "else:\n",
    "    immune = False\n",
    "\n",
    "\n",
    "risk = age or chronic or immune\n",
    "\n",
    "if risk:\n",
    "    print(\"You are in risky group.\")\n",
    "else:\n",
    "    print(\"You are not in risky group\")"
   ]
  },
  {
   "cell_type": "code",
   "execution_count": null,
   "metadata": {},
   "outputs": [],
   "source": []
  }
 ]
}