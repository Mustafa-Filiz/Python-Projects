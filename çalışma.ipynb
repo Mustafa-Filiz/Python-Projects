{
 "metadata": {
  "language_info": {
   "codemirror_mode": {
    "name": "ipython",
    "version": 3
   },
   "file_extension": ".py",
   "mimetype": "text/x-python",
   "name": "python",
   "nbconvert_exporter": "python",
   "pygments_lexer": "ipython3",
   "version": "3.9.4"
  },
  "orig_nbformat": 2,
  "kernelspec": {
   "name": "python394jvsc74a57bd0fd3c836f55ccbb5ee79d5cad5f2eeea419be3eed17d6400428b165ff035abe27",
   "display_name": "Python 3.9.4 64-bit"
  },
  "metadata": {
   "interpreter": {
    "hash": "fd3c836f55ccbb5ee79d5cad5f2eeea419be3eed17d6400428b165ff035abe27"
   }
  }
 },
 "nbformat": 4,
 "nbformat_minor": 2,
 "cells": [
  {
   "cell_type": "code",
   "execution_count": 2,
   "metadata": {},
   "outputs": [],
   "source": [
    "text = ['one','two','three','four','five']\n",
    "numbers = [1, 2, 3, 4, 5]\n",
    "city = (\"tokyo\", \"kiev\", \"paris\", \"new york\", \"istanbul\")"
   ]
  },
  {
   "cell_type": "code",
   "execution_count": 3,
   "metadata": {},
   "outputs": [
    {
     "output_type": "execute_result",
     "data": {
      "text/plain": [
       "[('one', 1, 'tokyo'),\n",
       " ('two', 2, 'kiev'),\n",
       " ('three', 3, 'paris'),\n",
       " ('four', 4, 'new york'),\n",
       " ('five', 5, 'istanbul')]"
      ]
     },
     "metadata": {},
     "execution_count": 3
    }
   ],
   "source": [
    "list(zip(text, numbers, city))"
   ]
  },
  {
   "cell_type": "code",
   "execution_count": 3,
   "metadata": {},
   "outputs": [
    {
     "output_type": "stream",
     "name": "stdout",
     "text": [
      "('one', 1, 'tokyo') ('two', 2, 'kiev') ('three', 3, 'mekke') ('four', 4, 'new york') ('five', 5, 'istanbul')\n"
     ]
    }
   ],
   "source": [
    "print(* zip(text, numbers, city))"
   ]
  },
  {
   "cell_type": "code",
   "execution_count": 8,
   "metadata": {},
   "outputs": [
    {
     "output_type": "stream",
     "name": "stdout",
     "text": [
      "[0, 2, 4, 6, 8, 10]\n[1, 3, 5, 7, 9]\n"
     ]
    }
   ],
   "source": [
    "even = []\n",
    "odd = []\n",
    "\n",
    "for i in range(0,11):\n",
    "    if i % 2 == 0:\n",
    "        even.append(i)\n",
    "    else:\n",
    "        odd.append(i)\n",
    "\n",
    "print(even)\n",
    "print(odd)\n"
   ]
  },
  {
   "cell_type": "code",
   "execution_count": 9,
   "metadata": {},
   "outputs": [
    {
     "output_type": "stream",
     "name": "stdout",
     "text": [
      "[0, 2, 4, 6, 8]\n[1, 3, 5, 7, 9]\n"
     ]
    }
   ],
   "source": [
    "a = [i for i in range(0,10) if i % 2 == 0]\n",
    "b = [k for k in range(0,10) if k % 2 != 0]\n",
    "\n",
    "print(a)\n",
    "print(b)"
   ]
  },
  {
   "cell_type": "code",
   "execution_count": 12,
   "metadata": {},
   "outputs": [
    {
     "output_type": "stream",
     "name": "stdout",
     "text": [
      "The number of even numbers 4\nThe number of odd numbers 3\n"
     ]
    }
   ],
   "source": [
    "example_list = [11,2,24,61,48,33,3]\n",
    "even_num = 0\n",
    "odd_num = 0\n",
    "for i in range(len(example_list)):\n",
    "    if not i % 2 :\n",
    "        even_num += 1\n",
    "    else:\n",
    "        odd_num += 1\n",
    "\n",
    "print(\"The number of even numbers\", even_num)\n",
    "print(\"The number of odd numbers\", odd_num)"
   ]
  },
  {
   "cell_type": "code",
   "execution_count": 13,
   "metadata": {},
   "outputs": [
    {
     "output_type": "stream",
     "name": "stdout",
     "text": [
      "1\n22\n333\n4444\n55555\n666666\n7777777\n88888888\n999999999\n"
     ]
    }
   ],
   "source": [
    "for i in range(1,10):\n",
    "    print(f\"{i}\" * i)"
   ]
  },
  {
   "cell_type": "code",
   "execution_count": 15,
   "metadata": {},
   "outputs": [
    {
     "output_type": "stream",
     "name": "stdout",
     "text": [
      "2775\n"
     ]
    }
   ],
   "source": [
    "toplam = 0\n",
    "for i in range(1, 75):\n",
    "    toplam += i\n",
    "\n",
    "print(toplam)"
   ]
  },
  {
   "cell_type": "code",
   "execution_count": 19,
   "metadata": {},
   "outputs": [
    {
     "output_type": "stream",
     "name": "stdout",
     "text": [
      "susan is happy\nsusan is sad\ntom is happy\ntom is sad\nedward is happy\nedward is sad\n"
     ]
    }
   ],
   "source": [
    "names = [\"susan\", \"tom\", \"edward\"] \n",
    "mood = [\"happy\", \"sad\"]\n",
    "\n",
    "for k in names:\n",
    "    for l in mood:\n",
    "        print(k, \"is\", l)"
   ]
  },
  {
   "cell_type": "code",
   "execution_count": 23,
   "metadata": {},
   "outputs": [
    {
     "output_type": "stream",
     "name": "stdout",
     "text": [
      "Even square: [0, 4, 16, 36, 64]\nOdd square: [1, 9, 25, 49, 81]\n"
     ]
    }
   ],
   "source": [
    "my_list = list(range(10))\n",
    "print(\"Even square:\",[i ** 2 for i in my_list if i % 2 ==0])\n",
    "print(\"Odd square:\",[i ** 2 for i in my_list if i % 2 !=0])"
   ]
  },
  {
   "cell_type": "code",
   "execution_count": 37,
   "metadata": {},
   "outputs": [
    {
     "output_type": "stream",
     "name": "stdout",
     "text": [
      "93084\n93084 is an Armstrong number.\n"
     ]
    }
   ],
   "source": [
    "number = input(\"Enter a number : \")\n",
    "\n",
    "while True:   \n",
    "    if number.isdecimal():\n",
    "        break\n",
    "    else:\n",
    "        number = input(\" It is an invalid entry. Don't use non-numeric, float, or negative values! : \")\n",
    "\n",
    "sum_digit = 0\n",
    "\n",
    "for i in range(len(number)):\n",
    "    sum_digit += int(number[i]) ** len(number)\n",
    "\n",
    "print(sum_digit)\n",
    "\n",
    "if sum_digit == int(number):\n",
    "    print(f\"{number} is an Armstrong number.\")\n",
    "else :\n",
    "    print(f\"{number} is not an Armstrong number.\")"
   ]
  },
  {
   "cell_type": "code",
   "execution_count": 39,
   "metadata": {},
   "outputs": [
    {
     "output_type": "stream",
     "name": "stdout",
     "text": [
      "Answer the questions 'Yes' or 'No'.\n",
      "You are in risky group.\n"
     ]
    }
   ],
   "source": [
    "print(\"Answer the questions 'Yes' or 'No'.\")\n",
    "age = input(\"Are you a cigarette addict older than 75 years old? \").strip().title()\n",
    "chronic = input(\"Do you have a severe chronic disease? \").strip().title()\n",
    "immune = input(\"Is your immune system too weak? \").strip().title()\n",
    "\n",
    "if age == \"Yes\":\n",
    "    age = True\n",
    "else:\n",
    "    age = False\n",
    "\n",
    "if chronic == \"Yes\":\n",
    "    chronic = True\n",
    "else:\n",
    "    chronic = False\n",
    "\n",
    "if immune == \"Yes\":\n",
    "    immune = True\n",
    "else:\n",
    "    immune = False\n",
    "\n",
    "\n",
    "risk = age or chronic or immune\n",
    "\n",
    "if risk:\n",
    "    print(\"You are in risky group.\")\n",
    "else:\n",
    "    print(\"You are not in risky group\")"
   ]
  },
  {
   "cell_type": "code",
   "execution_count": 14,
   "metadata": {},
   "outputs": [],
   "source": [
    "\n",
    "def isarmstrong(number):\n",
    "    while True:\n",
    "        if number.isnumeric():\n",
    "            break\n",
    "        else:\n",
    "            number = input(\"It is an invalid entry. Don't use non-numeric, float, or negative values! : \")\n",
    "\n",
    "    sum_digit = 0\n",
    "\n",
    "    for i in number:\n",
    "        sum_digit += int(i) ** len(number)\n",
    "\n",
    "    if sum_digit == int(number):\n",
    "        print(number, \"is an Armstrong number\")\n",
    "    else:\n",
    "        print(number ,\"is not an Armstrong number\")"
   ]
  },
  {
   "cell_type": "code",
   "execution_count": 12,
   "metadata": {},
   "outputs": [
    {
     "output_type": "stream",
     "name": "stdout",
     "text": [
      "1\n1\n"
     ]
    }
   ],
   "source": [
    "num = 7\n",
    "a = \"\"\n",
    "if num >= 1 :\n",
    "    num = num // 2\n",
    "a += str(num % 2)\n",
    "\n",
    "print(a)\n",
    "print(a.count(\"1\"))"
   ]
  },
  {
   "source": [
    "n = int(input(\"Enter a number : \"))\n",
    "\n",
    "control = False\n",
    "\n",
    "if n > 1:\n",
    "    for i in range(2, n):\n",
    "        if (n % i) == 0:\n",
    "            control = True\n",
    "\n",
    "if control:\n",
    "    print(n, \"is not a Prime number.\")\n",
    "else:\n",
    "    print(n, \"is a Prime number.\")\n",
    "        \n",
    "\n",
    "    "
   ],
   "cell_type": "code",
   "metadata": {},
   "execution_count": null,
   "outputs": []
  },
  {
   "cell_type": "code",
   "execution_count": 4,
   "metadata": {},
   "outputs": [
    {
     "output_type": "stream",
     "name": "stdout",
     "text": [
      "5 is a prime number\n"
     ]
    }
   ],
   "source": [
    "n = int(input(\"Enter a number to check if it is a prime number.\"))\n",
    "count = 0\n",
    "for i in range(1, n+1) :\n",
    "    if n % i == 0 :\n",
    "        count += 1\n",
    "if (n == 0) or (n == 1) or (count >=3) :\n",
    "    print(n, \"is not a prime number.\")\n",
    "else:\n",
    "    print(n, \"is a prime number\")"
   ]
  },
  {
   "cell_type": "code",
   "execution_count": null,
   "metadata": {},
   "outputs": [],
   "source": [
    "def add(a, b):\n",
    "    print(a + b)"
   ]
  },
  {
   "cell_type": "code",
   "execution_count": 9,
   "metadata": {},
   "outputs": [],
   "source": [
    "def calculator(a, b, opr):\n",
    "    if opr == \"+\":\n",
    "        print(a + b)\n",
    "    elif opr == \"-\":\n",
    "        print(a - b)\n",
    "    elif opr == \"/\":\n",
    "        print(a / b)\n",
    "    elif opr == \"*\":\n",
    "        print(a * b)\n"
   ]
  },
  {
   "cell_type": "code",
   "execution_count": 10,
   "metadata": {},
   "outputs": [
    {
     "output_type": "stream",
     "name": "stdout",
     "text": [
      "110\n"
     ]
    }
   ],
   "source": [
    "calculator(88, 22, \"+\")"
   ]
  },
  {
   "cell_type": "code",
   "execution_count": 20,
   "metadata": {},
   "outputs": [
    {
     "output_type": "stream",
     "name": "stdout",
     "text": [
      "1927890457142960697580636236639 is an Armstrong number\n"
     ]
    }
   ],
   "source": [
    "isarmstrong(\"1927890457142960697580636236639\")"
   ]
  },
  {
   "cell_type": "code",
   "execution_count": 17,
   "metadata": {},
   "outputs": [],
   "source": [
    "def calculator(a, b, opr):\n",
    "    if opr == \"+\":\n",
    "        return (a + b)\n",
    "    elif opr == \"-\":\n",
    "        return (a - b)\n",
    "    elif opr == \"/\":\n",
    "        return (a / b)\n",
    "    elif opr == \"*\":\n",
    "        return (a * b)\n"
   ]
  },
  {
   "cell_type": "code",
   "execution_count": 18,
   "metadata": {},
   "outputs": [
    {
     "output_type": "execute_result",
     "data": {
      "text/plain": [
       "29"
      ]
     },
     "metadata": {},
     "execution_count": 18
    }
   ],
   "source": [
    "calculator(127, 98, \"-\")"
   ]
  },
  {
   "cell_type": "code",
   "execution_count": 1,
   "metadata": {},
   "outputs": [],
   "source": [
    "def absolute_value(a):\n",
    "    if a < 0:\n",
    "        return a * (-1)\n",
    "    else:\n",
    "        return a"
   ]
  },
  {
   "cell_type": "code",
   "execution_count": 3,
   "metadata": {},
   "outputs": [
    {
     "output_type": "execute_result",
     "data": {
      "text/plain": [
       "30"
      ]
     },
     "metadata": {},
     "execution_count": 3
    }
   ],
   "source": [
    "absolute_value(30)"
   ]
  },
  {
   "cell_type": "code",
   "execution_count": 4,
   "metadata": {},
   "outputs": [
    {
     "output_type": "stream",
     "name": "stdout",
     "text": [
      "Return the absolute value of the argument.\n"
     ]
    }
   ],
   "source": [
    "print(abs.__doc__)"
   ]
  },
  {
   "cell_type": "code",
   "execution_count": 8,
   "metadata": {},
   "outputs": [
    {
     "output_type": "stream",
     "name": "stdout",
     "text": [
      "i love you\n"
     ]
    }
   ],
   "source": [
    "def texter(a, b, c):\n",
    "    print(b, c, a)\n",
    "\n",
    "a= \"i\"\n",
    "b = \"love\"\n",
    "c = \"you\"\n",
    "texter(c, a, b)\n"
   ]
  },
  {
   "cell_type": "code",
   "execution_count": 7,
   "metadata": {},
   "outputs": [],
   "source": [
    "def slicer(*numbers):\n",
    "    even_list = []\n",
    "    odd_list = []\n",
    "    for i in numbers:\n",
    "        if i % 2 == 0:\n",
    "           even_list.append(i)\n",
    "        else:\n",
    "            odd_list.append(i)\n",
    "    print(\"even list \", even_list)\n",
    "    print(\"odd list \", odd_list)"
   ]
  },
  {
   "cell_type": "code",
   "execution_count": 9,
   "metadata": {},
   "outputs": [
    {
     "output_type": "stream",
     "name": "stdout",
     "text": [
      "even list  [2, 4, 6, 8]\nodd list  [1, 3, 5, 7, 9]\n"
     ]
    }
   ],
   "source": [
    "slicer(1, 2, 3, 4, 5, 6, 7, 8, 9)"
   ]
  },
  {
   "cell_type": "code",
   "execution_count": 10,
   "metadata": {},
   "outputs": [],
   "source": [
    "def organizer(**x):\n",
    "    print([key for key in x.keys()])\n",
    "    print([values for values in x.values()])"
   ]
  },
  {
   "cell_type": "code",
   "execution_count": 11,
   "metadata": {},
   "outputs": [
    {
     "output_type": "stream",
     "name": "stdout",
     "text": [
      "['beth', 'oscar', 'frank']\n[26, 18, 33]\n"
     ]
    }
   ],
   "source": [
    "organizer(beth = 26, oscar = 18, frank = 33)"
   ]
  },
  {
   "cell_type": "code",
   "execution_count": 21,
   "metadata": {},
   "outputs": [
    {
     "output_type": "stream",
     "name": "stdout",
     "text": [
      "[0, 1, 1, 2, 3, 5, 8, 13, 21, 34, 55, 89, 144, 233, 377]\n"
     ]
    }
   ],
   "source": [
    "fibonacci = [0, 1]\n",
    "count = 0\n",
    "x = int(input(\"How many fibo's do you want?\"))\n",
    "while count < (x - 2):\n",
    "    n = fibonacci[count] + fibonacci[count + 1]\n",
    "    fibonacci.append(n)\n",
    "    count += 1\n",
    "print(fibonacci)\n"
   ]
  },
  {
   "cell_type": "code",
   "execution_count": 1,
   "metadata": {},
   "outputs": [],
   "source": [
    "\n",
    "def fibonacci(x):\n",
    "    '''\n",
    "    Takes an integer and return the exact amount of Fibonacci sequence.\n",
    "    '''\n",
    "    fibo = [0, 1]\n",
    "    count = 0\n",
    "    while count < (x - 2):\n",
    "        n = fibo[count] + fibo[count + 1]\n",
    "        fibo.append(n)\n",
    "        count += 1\n",
    "    return fibo\n"
   ]
  },
  {
   "cell_type": "code",
   "execution_count": 32,
   "metadata": {},
   "outputs": [
    {
     "output_type": "stream",
     "name": "stdout",
     "text": [
      "\n    Takes an integer and return the exact amount of Fibonacci sequence.\n    \n"
     ]
    }
   ],
   "source": [
    "print(fibo.__doc__)"
   ]
  },
  {
   "cell_type": "code",
   "execution_count": 35,
   "metadata": {},
   "outputs": [
    {
     "output_type": "stream",
     "name": "stdout",
     "text": [
      "[0, 1, 1, 2, 3, 5, 8, 13, 21, 34, 55]\n"
     ]
    }
   ],
   "source": [
    "f = [0, 1]\n",
    "a = int(input(\"fibo num :\"))\n",
    "\n",
    "for i in range(a):\n",
    "    if max(f) == 55:\n",
    "        break\n",
    "    q = f[i] + f[i + 1]\n",
    "    f.append(q)\n",
    "print(f)\n"
   ]
  },
  {
   "cell_type": "code",
   "execution_count": 3,
   "metadata": {},
   "outputs": [
    {
     "output_type": "execute_result",
     "data": {
      "text/plain": [
       "[0, 1, 1, 2, 3, 5, 8, 13, 21, 34, 55, 89, 144, 233, 377]"
      ]
     },
     "metadata": {},
     "execution_count": 3
    }
   ],
   "source": [
    "fibonacci(15)"
   ]
  },
  {
   "cell_type": "code",
   "execution_count": 1,
   "metadata": {},
   "outputs": [],
   "source": [
    "mors_code = {\n",
    "  'A': '.-', 'B': '-...', 'C': '-.-.', 'D': '-..', 'E': '.', 'F': '..-.',\n",
    "  'G': '--.', 'H': '....', 'I': '..', 'J': '.---', 'K': '-.-', 'L': '.-..',\n",
    "  'M': '--', 'N': '-.', 'O': '---', 'P': '.--.', 'Q': '--.-', 'R': '.-.',\n",
    "  'S': '...', 'T': '-', 'U': '..-', 'V': '...-', 'W': '.--', 'X': '-..-',\n",
    "  'Y': '-.--', 'Z': '--..', ' ': ' ', '0': '-----',\n",
    "  '1': '.----', '2': '..---', '3': '...--', '4': '....-', '5': '.....',\n",
    "  '6': '-....', '7': '--...', '8': '---..', '9': '----.',\n",
    "  '&': '.-...', \"'\": '.----.', '@': '.--.-.', ')': '-.--.-', '(': '-.--.',\n",
    "  ':': '---...', ',': '--..--', '=': '-...-', '!': '-.-.--', '.': '.-.-.-',\n",
    "  '-': '-....-', '+': '.-.-.', '\"': '.-..-.', '?': '..--..', '/': '-..-.'\n",
    "}\n",
    "def mors(sentence):\n",
    "    morsed = sentence.upper()\n",
    "    for i in morsed:\n",
    "        print(mors_code[i], end = \" \")"
   ]
  },
  {
   "cell_type": "code",
   "execution_count": 2,
   "metadata": {},
   "outputs": [
    {
     "output_type": "stream",
     "name": "stdout",
     "text": [
      "-- ..- ... - .- ..-. .- ..-. .. .-.. .. --.. .---- ---.. .--.-. --. -- .- .. .-.. .-.-.- -.-. --- -- "
     ]
    }
   ],
   "source": [
    "mors(\"mustafafiliz18@gmail.com\")"
   ]
  },
  {
   "cell_type": "code",
   "execution_count": 7,
   "metadata": {},
   "outputs": [
    {
     "output_type": "stream",
     "name": "stdout",
     "text": [
      "89\n[14, 26, 12, -7, -21, -33, 35, 21, 9, 42, 66, 52, 40, 73, 31, -6, -20, -32, 1, -41, -72, -2, -16, -28, 5, -37, -68, 4, -11, -25, -37, -4, -46, -77, -5, -9, 78, 64, 52, 85, 43, 12, 84, 80, 89]\n"
     ]
    }
   ],
   "source": [
    "price = [21,35,47,14,56,87,15,19,10,99]\n",
    "new_list = []\n",
    "for i in price:\n",
    "    for ii in price:\n",
    "        if price.index(i) > price.index(ii):\n",
    "            new_list.append(i - ii)\n",
    "print(max(new_list))\n",
    "print(new_list)\n"
   ]
  },
  {
   "cell_type": "code",
   "execution_count": 9,
   "metadata": {},
   "outputs": [],
   "source": [
    "def profit(*n):\n",
    "    new_list = []\n",
    "    for i in n:\n",
    "        for ii in n:\n",
    "            if n.index(i) > n.index(ii):\n",
    "                new_list.append(i - ii)\n",
    "    return max(new_list)"
   ]
  },
  {
   "cell_type": "code",
   "execution_count": 11,
   "metadata": {},
   "outputs": [
    {
     "output_type": "execute_result",
     "data": {
      "text/plain": [
       "85"
      ]
     },
     "metadata": {},
     "execution_count": 11
    }
   ],
   "source": [
    "profit(21,35,47,14,56,87,15,19,99,10)"
   ]
  },
  {
   "cell_type": "code",
   "execution_count": 6,
   "metadata": {},
   "outputs": [
    {
     "output_type": "stream",
     "name": "stdout",
     "text": [
      "[2, 3, 5, 7, 11, 13, 17, 19, 23, 29, 31, 37, 41, 43, 47, 53, 59, 61, 67, 71, 73, 79, 83, 89, 97]\n"
     ]
    }
   ],
   "source": [
    "n = int(input(\"Enter a number : \"))\n",
    "prime_list = []\n",
    "\n",
    "for j in range(n + 1):\n",
    "    control = False\n",
    "\n",
    "    if j > 1:\n",
    "        for i in range(2, j):\n",
    "            if (j % i) == 0:\n",
    "                control = True\n",
    "\n",
    "        if not control:\n",
    "            prime_list.append(j)\n",
    "        else:\n",
    "            pass\n",
    "\n",
    "print(prime_list)"
   ]
  },
  {
   "cell_type": "code",
   "execution_count": 21,
   "metadata": {},
   "outputs": [
    {
     "output_type": "stream",
     "name": "stdout",
     "text": [
      "for me bill gates and guido van rossum are geniuses\n"
     ]
    }
   ],
   "source": [
    "def merger(a,b,c,d):\n",
    "    print(\"for me\", a, d,\"and\",c,b,\"are geniuses\")\n",
    "genius= (\"bill\", \"rossum\",\"guido van\", \"gates\")\n",
    "merger(*genius)"
   ]
  },
  {
   "cell_type": "code",
   "execution_count": 25,
   "metadata": {},
   "outputs": [
    {
     "output_type": "execute_result",
     "data": {
      "text/plain": [
       "[('mary', 'rye'), ('bella', 'fred'), ('linda', 'roland')]"
      ]
     },
     "metadata": {},
     "execution_count": 25
    }
   ],
   "source": [
    "dict_couple = {\"bride\" : [\"mary\", \"bella\", \"linda\"],\n",
    "               \"groom\" : [\"rye\", \"fred\", \"roland\"]}\n",
    "\n",
    "def couples(bride, groom):\n",
    "    return list(zip(bride, groom))\n",
    "\n",
    "couples(**dict_couple)"
   ]
  },
  {
   "cell_type": "code",
   "execution_count": 30,
   "metadata": {},
   "outputs": [
    {
     "output_type": "execute_result",
     "data": {
      "text/plain": [
       "34.666666666666664"
      ]
     },
     "metadata": {},
     "execution_count": 30
    }
   ],
   "source": [
    "dict_example = {\n",
    "    \"john\" : 25,\n",
    "    \"richard\" : 45,\n",
    "    \"susan\" : 34\n",
    "}\n",
    "def meaner(john, richard, susan):\n",
    "    return (john+richard+ susan)/ 3\n",
    "\n",
    "meaner(**dict_example)"
   ]
  },
  {
   "cell_type": "code",
   "execution_count": 31,
   "metadata": {},
   "outputs": [
    {
     "output_type": "stream",
     "name": "stdout",
     "text": [
      "True\n"
     ]
    }
   ],
   "source": [
    "def query(s):\n",
    "    while \"()\" in s or \"{}\" in s or '[]' in s:\n",
    "        s = s.replace(\"()\", \"\").replace('{}', \"\").replace('[]', \"\")\n",
    "    return s == ''\n",
    "print(query(('([])')))"
   ]
  },
  {
   "cell_type": "code",
   "execution_count": 33,
   "metadata": {},
   "outputs": [
    {
     "output_type": "execute_result",
     "data": {
      "text/plain": [
       "[7, 6, 5, 4, 3, 2, 1]"
      ]
     },
     "metadata": {},
     "execution_count": 33
    }
   ],
   "source": [
    "(lambda x : x[::-1])([1,2,3,4,5,6,7])"
   ]
  },
  {
   "cell_type": "code",
   "execution_count": 42,
   "metadata": {},
   "outputs": [
    {
     "output_type": "stream",
     "name": "stdout",
     "text": [
      "1 : odd\n2 : even\n3 : odd\n4 : even\n"
     ]
    }
   ],
   "source": [
    "for i in [1,2,3,4]:\n",
    "    print(i, \":\", (lambda x : \"odd\" if x%2 else \"even\")(i))"
   ]
  },
  {
   "cell_type": "code",
   "execution_count": 7,
   "metadata": {},
   "outputs": [],
   "source": [
    "def prime_list(n):\n",
    "    '''\n",
    "    Takes an integer and returns a list of prime numbers to the given number.\n",
    "    '''\n",
    "    prime_list = []\n",
    "\n",
    "    for j in range(n + 1):\n",
    "        control = False\n",
    "\n",
    "        if j > 1:\n",
    "            for i in range(2, j):\n",
    "                if (j % i) == 0:\n",
    "                    control = True\n",
    "\n",
    "            if not control:\n",
    "                prime_list.append(j)\n",
    "            else:\n",
    "                pass\n",
    "\n",
    "    return(prime_list)"
   ]
  },
  {
   "cell_type": "code",
   "execution_count": 8,
   "metadata": {},
   "outputs": [
    {
     "output_type": "stream",
     "name": "stdout",
     "text": [
      "[2, 3, 5, 7, 11, 13, 17, 19, 23, 29, 31, 37, 41, 43, 47, 53, 59, 61, 67, 71, 73, 79, 83, 89, 97, 101, 103, 107, 109, 113, 127, 131, 137, 139, 149]\n"
     ]
    }
   ],
   "source": [
    "x = prime_list(150)\n",
    "print(x)"
   ]
  },
  {
   "cell_type": "code",
   "execution_count": 10,
   "metadata": {},
   "outputs": [
    {
     "output_type": "stream",
     "name": "stdout",
     "text": [
      "1\n2\nFizz\n4\nBuzz\nFizz\n7\n8\nFizz\nBuzz\n11\nFizz\n13\n14\nFizzBuzz\n16\n17\nFizz\n19\nBuzz\nFizz\n22\n23\nFizz\nBuzz\n26\nFizz\n28\n29\nFizzBuzz\n31\n32\nFizz\n34\nBuzz\nFizz\n37\n38\nFizz\nBuzz\n41\nFizz\n43\n44\nFizzBuzz\n46\n47\nFizz\n49\nBuzz\nFizz\n52\n53\nFizz\nBuzz\n56\nFizz\n58\n59\nFizzBuzz\n61\n62\nFizz\n64\nBuzz\nFizz\n67\n68\nFizz\nBuzz\n71\nFizz\n73\n74\nFizzBuzz\n76\n77\nFizz\n79\nBuzz\nFizz\n82\n83\nFizz\nBuzz\n86\nFizz\n88\n89\nFizzBuzz\n91\n92\nFizz\n94\nBuzz\nFizz\n97\n98\nFizz\nBuzz\n"
     ]
    }
   ],
   "source": [
    "for i in range(1,101):\n",
    "    if i % 15 ==0:\n",
    "        print(\"FizzBuzz\")\n",
    "    elif i % 3 == 0:\n",
    "        print(\"Fizz\")\n",
    "    elif i % 5 == 0:\n",
    "        print(\"Buzz\")\n",
    "    else:\n",
    "        print(i)"
   ]
  },
  {
   "cell_type": "code",
   "execution_count": null,
   "metadata": {},
   "outputs": [],
   "source": []
  }
 ]
}